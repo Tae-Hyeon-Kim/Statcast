{
 "cells": [
  {
   "cell_type": "markdown",
   "id": "fdd7e030-c2f5-41de-819f-6d6cf9b21a3a",
   "metadata": {},
   "source": [
    "# Library"
   ]
  },
  {
   "cell_type": "code",
   "execution_count": 1,
   "id": "67217827-b958-44f2-b01b-057d8669a0ac",
   "metadata": {},
   "outputs": [],
   "source": [
    "import pandas as pd\n",
    "import numpy as np\n",
    "import pybaseball as pb"
   ]
  },
  {
   "cell_type": "markdown",
   "id": "a0f8bd4a-5377-42a0-8f12-d00a31ac179d",
   "metadata": {},
   "source": [
    "# code"
   ]
  },
  {
   "cell_type": "code",
   "execution_count": 7,
   "id": "daf52216-4a26-4240-8b6a-4739093def3d",
   "metadata": {},
   "outputs": [
    {
     "data": {
      "text/html": [
       "<div>\n",
       "<style scoped>\n",
       "    .dataframe tbody tr th:only-of-type {\n",
       "        vertical-align: middle;\n",
       "    }\n",
       "\n",
       "    .dataframe tbody tr th {\n",
       "        vertical-align: top;\n",
       "    }\n",
       "\n",
       "    .dataframe thead th {\n",
       "        text-align: right;\n",
       "    }\n",
       "</style>\n",
       "<table border=\"1\" class=\"dataframe\">\n",
       "  <thead>\n",
       "    <tr style=\"text-align: right;\">\n",
       "      <th></th>\n",
       "      <th>name_last</th>\n",
       "      <th>name_first</th>\n",
       "      <th>key_mlbam</th>\n",
       "      <th>key_retro</th>\n",
       "      <th>key_bbref</th>\n",
       "      <th>key_fangraphs</th>\n",
       "      <th>mlb_played_first</th>\n",
       "      <th>mlb_played_last</th>\n",
       "    </tr>\n",
       "  </thead>\n",
       "  <tbody>\n",
       "    <tr>\n",
       "      <th>0</th>\n",
       "      <td>kelly</td>\n",
       "      <td>merrill</td>\n",
       "      <td>518876</td>\n",
       "      <td>kellm002</td>\n",
       "      <td>kellyme01</td>\n",
       "      <td>11156</td>\n",
       "      <td>2019.0</td>\n",
       "      <td>2024.0</td>\n",
       "    </tr>\n",
       "  </tbody>\n",
       "</table>\n",
       "</div>"
      ],
      "text/plain": [
       "  name_last name_first  key_mlbam key_retro  key_bbref  key_fangraphs  \\\n",
       "0     kelly    merrill     518876  kellm002  kellyme01          11156   \n",
       "\n",
       "   mlb_played_first  mlb_played_last  \n",
       "0            2019.0           2024.0  "
      ]
     },
     "execution_count": 7,
     "metadata": {},
     "output_type": "execute_result"
    }
   ],
   "source": [
    "pb.playerid_lookup('kelly','merrill')#.loc[0][['name_last','name_first']].values[::-1]"
   ]
  },
  {
   "cell_type": "code",
   "execution_count": 8,
   "id": "09e31c02-76e5-4d4a-a3d5-7448985d268f",
   "metadata": {},
   "outputs": [],
   "source": [
    "def get_id(name):\n",
    "    try:\n",
    "        f_name,l_name = name.split(' ')\n",
    "    except:\n",
    "        l_name = name\n",
    "        f_name = None\n",
    "        \n",
    "    tmp_df = pb.playerid_lookup(l_name,f_name)\n",
    "    for ind in range(len(tmp_df)):\n",
    "        m_id = tmp_df.loc[ind,'key_mlbam']\n",
    "        f_id = tmp_df.loc[ind,'key_fangraphs']\n",
    "        s_season = int(tmp_df.loc[ind,'mlb_played_first'])\n",
    "        e_season = int(tmp_df.loc[ind,'mlb_played_last'])\n",
    "        \n",
    "        print(' '.join(tmp_df.loc[ind,['name_last','name_first']].values[::-1]))\n",
    "        print(f'mlb_id : {m_id}\\nfangraphs_id : {f_id}\\nstart : {s_season}\\nend : {e_season}\\n') \n",
    "    "
   ]
  },
  {
   "cell_type": "code",
   "execution_count": 9,
   "id": "e3fccf3e-13e4-468d-8563-ebed03a8e511",
   "metadata": {},
   "outputs": [
    {
     "data": {
      "text/html": [
       "<div>\n",
       "<style scoped>\n",
       "    .dataframe tbody tr th:only-of-type {\n",
       "        vertical-align: middle;\n",
       "    }\n",
       "\n",
       "    .dataframe tbody tr th {\n",
       "        vertical-align: top;\n",
       "    }\n",
       "\n",
       "    .dataframe thead th {\n",
       "        text-align: right;\n",
       "    }\n",
       "</style>\n",
       "<table border=\"1\" class=\"dataframe\">\n",
       "  <thead>\n",
       "    <tr style=\"text-align: right;\">\n",
       "      <th></th>\n",
       "      <th>name_last</th>\n",
       "      <th>name_first</th>\n",
       "      <th>key_mlbam</th>\n",
       "      <th>key_retro</th>\n",
       "      <th>key_bbref</th>\n",
       "      <th>key_fangraphs</th>\n",
       "      <th>mlb_played_first</th>\n",
       "      <th>mlb_played_last</th>\n",
       "    </tr>\n",
       "  </thead>\n",
       "  <tbody>\n",
       "    <tr>\n",
       "      <th>0</th>\n",
       "      <td>kelly</td>\n",
       "      <td>merrill</td>\n",
       "      <td>518876</td>\n",
       "      <td>kellm002</td>\n",
       "      <td>kellyme01</td>\n",
       "      <td>11156</td>\n",
       "      <td>2019.0</td>\n",
       "      <td>2024.0</td>\n",
       "    </tr>\n",
       "  </tbody>\n",
       "</table>\n",
       "</div>"
      ],
      "text/plain": [
       "  name_last name_first  key_mlbam key_retro  key_bbref  key_fangraphs  \\\n",
       "0     kelly    merrill     518876  kellm002  kellyme01          11156   \n",
       "\n",
       "   mlb_played_first  mlb_played_last  \n",
       "0            2019.0           2024.0  "
      ]
     },
     "execution_count": 9,
     "metadata": {},
     "output_type": "execute_result"
    }
   ],
   "source": [
    "pb.playerid_reverse_lookup([518876])"
   ]
  },
  {
   "cell_type": "code",
   "execution_count": 52,
   "id": "891a1bbe-78d8-4494-bb30-d40d642930ee",
   "metadata": {},
   "outputs": [],
   "source": [
    "def get_raw_statcast(id, player_type, start=None, end=None):\n",
    "    start = int(pb.playerid_reverse_lookup([id])['mlb_played_first'].values[0])\n",
    "    end = int(pb.playerid_reverse_lookup([id])['mlb_played_last'].values[0])\n",
    "    if player_type=='P':\n",
    "        raw_data = pb.statcast_pitcher(f'{start}-01-01',f'{end}-12-31',player_id = id)\n",
    "    elif player_type == 'B':\n",
    "        raw_data = pb.statcast_batter(f'{start}-01-01',f'{end}-12-31',player_id = id)\n",
    "    return raw_data"
   ]
  },
  {
   "cell_type": "code",
   "execution_count": 60,
   "id": "78b6564a-de58-4123-8371-2e564d942e48",
   "metadata": {},
   "outputs": [],
   "source": [
    "def get_fg_data(id,start=None,end=None):\n",
    "    start = int(pb.playerid_reverse_lookup([id])['mlb_played_first'].values[0])\n",
    "    end = int(pb.playerid_reverse_lookup([id])['mlb_played_last'].values[0])\n",
    "    fg_id = int(pb.playerid_reverse_lookup([id])['key_fangraphs'].values[0])\n",
    "    tmp_fg = pb.pitching_stats(start,end)\n",
    "    return tmp_fg[tmp_fg['IDfg']==fg_id]"
   ]
  },
  {
   "cell_type": "code",
   "execution_count": 61,
   "id": "981138a0-8c73-4643-b2f6-171d6e8b10a5",
   "metadata": {},
   "outputs": [
    {
     "name": "stdout",
     "output_type": "stream",
     "text": [
      "merrill kelly\n",
      "mlb_id : 518876\n",
      "fangraphs_id : 11156\n",
      "start : 2019\n",
      "end : 2024\n",
      "\n"
     ]
    }
   ],
   "source": [
    "get_id('merrill kelly')"
   ]
  },
  {
   "cell_type": "code",
   "execution_count": 62,
   "id": "d6873fdd-e6da-4c66-9a07-f1711c6c238f",
   "metadata": {},
   "outputs": [
    {
     "data": {
      "text/html": [
       "<div>\n",
       "<style scoped>\n",
       "    .dataframe tbody tr th:only-of-type {\n",
       "        vertical-align: middle;\n",
       "    }\n",
       "\n",
       "    .dataframe tbody tr th {\n",
       "        vertical-align: top;\n",
       "    }\n",
       "\n",
       "    .dataframe thead th {\n",
       "        text-align: right;\n",
       "    }\n",
       "</style>\n",
       "<table border=\"1\" class=\"dataframe\">\n",
       "  <thead>\n",
       "    <tr style=\"text-align: right;\">\n",
       "      <th></th>\n",
       "      <th>IDfg</th>\n",
       "      <th>Season</th>\n",
       "      <th>Name</th>\n",
       "      <th>Team</th>\n",
       "      <th>Age</th>\n",
       "      <th>W</th>\n",
       "      <th>L</th>\n",
       "      <th>WAR</th>\n",
       "      <th>ERA</th>\n",
       "      <th>G</th>\n",
       "      <th>...</th>\n",
       "      <th>Pit+ FC</th>\n",
       "      <th>Stf+ FS</th>\n",
       "      <th>Loc+ FS</th>\n",
       "      <th>Pit+ FS</th>\n",
       "      <th>Stuff+</th>\n",
       "      <th>Location+</th>\n",
       "      <th>Pitching+</th>\n",
       "      <th>Stf+ FO</th>\n",
       "      <th>Loc+ FO</th>\n",
       "      <th>Pit+ FO</th>\n",
       "    </tr>\n",
       "  </thead>\n",
       "  <tbody>\n",
       "    <tr>\n",
       "      <th>115</th>\n",
       "      <td>11156</td>\n",
       "      <td>2022</td>\n",
       "      <td>Merrill Kelly</td>\n",
       "      <td>ARI</td>\n",
       "      <td>33</td>\n",
       "      <td>13</td>\n",
       "      <td>8</td>\n",
       "      <td>3.2</td>\n",
       "      <td>3.37</td>\n",
       "      <td>33</td>\n",
       "      <td>...</td>\n",
       "      <td>105.0</td>\n",
       "      <td>NaN</td>\n",
       "      <td>NaN</td>\n",
       "      <td>NaN</td>\n",
       "      <td>97.0</td>\n",
       "      <td>102.0</td>\n",
       "      <td>101.0</td>\n",
       "      <td>NaN</td>\n",
       "      <td>NaN</td>\n",
       "      <td>NaN</td>\n",
       "    </tr>\n",
       "    <tr>\n",
       "      <th>102</th>\n",
       "      <td>11156</td>\n",
       "      <td>2023</td>\n",
       "      <td>Merrill Kelly</td>\n",
       "      <td>ARI</td>\n",
       "      <td>34</td>\n",
       "      <td>12</td>\n",
       "      <td>8</td>\n",
       "      <td>3.2</td>\n",
       "      <td>3.29</td>\n",
       "      <td>30</td>\n",
       "      <td>...</td>\n",
       "      <td>96.0</td>\n",
       "      <td>NaN</td>\n",
       "      <td>NaN</td>\n",
       "      <td>NaN</td>\n",
       "      <td>96.0</td>\n",
       "      <td>103.0</td>\n",
       "      <td>100.0</td>\n",
       "      <td>NaN</td>\n",
       "      <td>NaN</td>\n",
       "      <td>NaN</td>\n",
       "    </tr>\n",
       "    <tr>\n",
       "      <th>235</th>\n",
       "      <td>11156</td>\n",
       "      <td>2019</td>\n",
       "      <td>Merrill Kelly</td>\n",
       "      <td>ARI</td>\n",
       "      <td>30</td>\n",
       "      <td>13</td>\n",
       "      <td>14</td>\n",
       "      <td>1.9</td>\n",
       "      <td>4.42</td>\n",
       "      <td>32</td>\n",
       "      <td>...</td>\n",
       "      <td>NaN</td>\n",
       "      <td>NaN</td>\n",
       "      <td>NaN</td>\n",
       "      <td>NaN</td>\n",
       "      <td>NaN</td>\n",
       "      <td>NaN</td>\n",
       "      <td>NaN</td>\n",
       "      <td>NaN</td>\n",
       "      <td>NaN</td>\n",
       "      <td>NaN</td>\n",
       "    </tr>\n",
       "  </tbody>\n",
       "</table>\n",
       "<p>3 rows × 393 columns</p>\n",
       "</div>"
      ],
      "text/plain": [
       "      IDfg  Season           Name Team  Age   W   L  WAR   ERA   G  ...  \\\n",
       "115  11156    2022  Merrill Kelly  ARI   33  13   8  3.2  3.37  33  ...   \n",
       "102  11156    2023  Merrill Kelly  ARI   34  12   8  3.2  3.29  30  ...   \n",
       "235  11156    2019  Merrill Kelly  ARI   30  13  14  1.9  4.42  32  ...   \n",
       "\n",
       "     Pit+ FC  Stf+ FS  Loc+ FS  Pit+ FS  Stuff+  Location+  Pitching+  \\\n",
       "115    105.0      NaN      NaN      NaN    97.0      102.0      101.0   \n",
       "102     96.0      NaN      NaN      NaN    96.0      103.0      100.0   \n",
       "235      NaN      NaN      NaN      NaN     NaN        NaN        NaN   \n",
       "\n",
       "     Stf+ FO  Loc+ FO  Pit+ FO  \n",
       "115      NaN      NaN      NaN  \n",
       "102      NaN      NaN      NaN  \n",
       "235      NaN      NaN      NaN  \n",
       "\n",
       "[3 rows x 393 columns]"
      ]
     },
     "execution_count": 62,
     "metadata": {},
     "output_type": "execute_result"
    }
   ],
   "source": [
    "get_fg_data(518876)"
   ]
  },
  {
   "cell_type": "code",
   "execution_count": null,
   "id": "ae85101d-61e4-4cd8-96aa-1819b2fc94c2",
   "metadata": {},
   "outputs": [],
   "source": []
  }
 ],
 "metadata": {
  "kernelspec": {
   "display_name": "Python 3 (ipykernel)",
   "language": "python",
   "name": "python3"
  },
  "language_info": {
   "codemirror_mode": {
    "name": "ipython",
    "version": 3
   },
   "file_extension": ".py",
   "mimetype": "text/x-python",
   "name": "python",
   "nbconvert_exporter": "python",
   "pygments_lexer": "ipython3",
   "version": "3.11.7"
  }
 },
 "nbformat": 4,
 "nbformat_minor": 5
}
