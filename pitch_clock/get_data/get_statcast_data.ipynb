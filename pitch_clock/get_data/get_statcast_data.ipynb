{
 "cells": [
  {
   "cell_type": "code",
   "execution_count": 1,
   "id": "b1ed2dab-0175-4dda-9e06-bf170412801a",
   "metadata": {},
   "outputs": [],
   "source": [
    "import pandas as pd\n",
    "import pybaseball\n",
    "import numpy as np"
   ]
  },
  {
   "cell_type": "markdown",
   "id": "ef40606e-9945-4287-8283-d7fa41a24d93",
   "metadata": {},
   "source": [
    "# data load"
   ]
  },
  {
   "cell_type": "code",
   "execution_count": 2,
   "id": "195143fb-57e2-4a5a-940a-2edfd9e291c4",
   "metadata": {},
   "outputs": [],
   "source": [
    "# 기본 성적지표\n",
    "classic_data = pybaseball.pitching_stats(start_season= 2021, end_season = 2024,qual=10)\n",
    "classic_data_v2 = pybaseball.pitching_stats(start_season= 2021, end_season = 2024)"
   ]
  },
  {
   "cell_type": "code",
   "execution_count": 3,
   "id": "4281fdd0-904a-4c78-b1e5-3bf939a6585e",
   "metadata": {},
   "outputs": [],
   "source": [
    "# 구종 관련 statcast 데이터\n",
    "ars_n_data = pd.DataFrame()\n",
    "ars_speed_data = pd.DataFrame()\n",
    "ars_spin_data = pd.DataFrame()\n",
    "\n",
    "for year in range(2021,2025):\n",
    "    ars_n_tmp = pybaseball.statcast_pitcher_pitch_arsenal(year,arsenal_type = 'n_')\n",
    "    ars_speed_tmp = pybaseball.statcast_pitcher_pitch_arsenal(year,arsenal_type = 'avg_speed')\n",
    "    ars_spin_tmp = pybaseball.statcast_pitcher_pitch_arsenal(year,arsenal_type = 'avg_spin')\n",
    "\n",
    "    ars_n_tmp['year'] = year\n",
    "    ars_speed_tmp['year'] = year\n",
    "    ars_spin_tmp['year'] = year\n",
    "\n",
    "    if ars_n_data.empty:\n",
    "        ars_n_data = ars_n_tmp\n",
    "        ars_speed_data = ars_speed_tmp\n",
    "        ars_spin_data = ars_spin_tmp\n",
    "    else:\n",
    "        ars_n_data = pd.concat([ars_n_data,ars_n_tmp])\n",
    "        ars_speed_data = pd.concat([ars_speed_data,ars_speed_tmp])\n",
    "        ars_spin_data = pd.concat([ars_spin_data,ars_spin_tmp])\n",
    "ars_data = pd.merge(ars_n_data,ars_speed_data,on=['last_name, first_name','pitcher','year'])\n",
    "ars_data = pd.merge(ars_data,ars_spin_data,on=['last_name, first_name','pitcher','year'])\n",
    "ars_data = ars_data.rename(columns={'last_name, first_name':'name'})\n",
    "ars_data = ars_data[['name', 'pitcher', 'year', 'n_ff', 'n_si', 'n_fc', 'n_sl', 'n_ch', 'n_cu', 'n_fs', 'n_kn', 'n_st', \n",
    "                    'n_sv', 'ff_avg_speed', 'si_avg_speed', 'fc_avg_speed', 'sl_avg_speed', 'ch_avg_speed',\n",
    "                    'cu_avg_speed', 'fs_avg_speed', 'kn_avg_speed', 'st_avg_speed', 'sv_avg_speed', 'ff_avg_spin',\n",
    "                    'si_avg_spin', 'fc_avg_spin', 'sl_avg_spin', 'ch_avg_spin', 'cu_avg_spin', 'fs_avg_spin', 'kn_avg_spin', 'st_avg_spin', 'sv_avg_spin']]"
   ]
  },
  {
   "cell_type": "code",
   "execution_count": 4,
   "id": "7c1a3802-a547-4405-a1f5-2c3cfe539bf3",
   "metadata": {},
   "outputs": [],
   "source": [
    "# hit_angle,speed 관련 statcast 데이터\n",
    "exit_data = pd.DataFrame()\n",
    "\n",
    "for year in range(2021,2025):\n",
    "    exit_tmp = pybaseball.statcast_pitcher_exitvelo_barrels(year,minBBE=30)\n",
    "    exit_tmp['year'] = year\n",
    "\n",
    "    if exit_data.empty:\n",
    "        exit_data = exit_tmp\n",
    "    else:\n",
    "        exit_data = pd.concat([exit_data,exit_tmp])\n",
    "exit_data = exit_data.rename(columns={'last_name, first_name':'name'})\n"
   ]
  },
  {
   "cell_type": "code",
   "execution_count": 5,
   "id": "fa33119f-a209-4e1c-9e1e-a717e41b3702",
   "metadata": {},
   "outputs": [],
   "source": [
    "# timer 데이터\n",
    "timer_data = pd.read_csv('../data/timer_data.csv')\n",
    "timer_rg = timer_data[timer_data['game_type']=='Regular']"
   ]
  },
  {
   "cell_type": "markdown",
   "id": "82a7be69-573a-4981-9720-41973ea324b0",
   "metadata": {},
   "source": [
    "# Preprocessing"
   ]
  },
  {
   "cell_type": "markdown",
   "id": "4676a8e3-bdac-41c1-adcb-fadb8d41ac4f",
   "metadata": {},
   "source": [
    "## v1\n",
    "- 피치 타이머 데이터가 있는 모든 선수\n",
    "- 선발투수와 불펜투수 나눌 수 있음"
   ]
  },
  {
   "cell_type": "code",
   "execution_count": 6,
   "id": "e03cedb6-b920-4f99-acd3-913a1cc45032",
   "metadata": {},
   "outputs": [
    {
     "data": {
      "text/plain": [
       "1159"
      ]
     },
     "execution_count": 6,
     "metadata": {},
     "output_type": "execute_result"
    }
   ],
   "source": [
    "classic_data['IDfg'].nunique()"
   ]
  },
  {
   "cell_type": "code",
   "execution_count": 7,
   "id": "ac079f28-6e7d-4784-85e2-99b9699df0f0",
   "metadata": {},
   "outputs": [
    {
     "data": {
      "text/plain": [
       "1080"
      ]
     },
     "execution_count": 7,
     "metadata": {},
     "output_type": "execute_result"
    }
   ],
   "source": [
    "ars_data['pitcher'].nunique()"
   ]
  },
  {
   "cell_type": "code",
   "execution_count": 8,
   "id": "58083c5d-8a95-49fb-9cfa-874506617351",
   "metadata": {},
   "outputs": [
    {
     "data": {
      "text/plain": [
       "1163"
      ]
     },
     "execution_count": 8,
     "metadata": {},
     "output_type": "execute_result"
    }
   ],
   "source": [
    "exit_data['player_id'].nunique()"
   ]
  },
  {
   "cell_type": "code",
   "execution_count": 9,
   "id": "1f241666-1568-4412-a4f2-444076a66f5a",
   "metadata": {},
   "outputs": [
    {
     "data": {
      "text/plain": [
       "840"
      ]
     },
     "execution_count": 9,
     "metadata": {},
     "output_type": "execute_result"
    }
   ],
   "source": [
    "timer_rg['entity_id'].nunique()"
   ]
  },
  {
   "cell_type": "code",
   "execution_count": 10,
   "id": "4d7ca2a3-fec9-4f79-a754-8029cc6c90ef",
   "metadata": {},
   "outputs": [
    {
     "data": {
      "text/plain": [
       "85"
      ]
     },
     "execution_count": 10,
     "metadata": {},
     "output_type": "execute_result"
    }
   ],
   "source": [
    "# 5년의 피치타이머 데이터가 모두 있는 선수의 id\n",
    "id_v1 = timer_rg.groupby(['entity_id'])['year'].count()[timer_rg.groupby(['entity_id'])['year'].count() ==5].index\n",
    "len(id_v1)"
   ]
  },
  {
   "cell_type": "code",
   "execution_count": 11,
   "id": "39157440-d20c-4b7b-81b8-bd074eadc342",
   "metadata": {},
   "outputs": [
    {
     "name": "stdout",
     "output_type": "stream",
     "text": [
      "Gathering player lookup table. This may take a moment.\n"
     ]
    }
   ],
   "source": [
    "classic_v1 = classic_data[classic_data['IDfg'].isin(pybaseball.playerid_reverse_lookup(player_ids=list(id_v1))['key_fangraphs'])]\n",
    "ars_v1 = ars_data[ars_data['pitcher'].isin(id_v1)]\n",
    "exit_v1 = exit_data[exit_data['player_id'].isin(id_v1)]\n",
    "timer_v1 = timer_rg[timer_rg['entity_id'].isin(id_v1)]\n"
   ]
  },
  {
   "cell_type": "code",
   "execution_count": 12,
   "id": "7df875ec-b48d-45e6-95fa-25619cde9fe4",
   "metadata": {
    "scrolled": true
   },
   "outputs": [
    {
     "data": {
      "text/plain": [
       "85"
      ]
     },
     "execution_count": 12,
     "metadata": {},
     "output_type": "execute_result"
    }
   ],
   "source": [
    "classic_v1['IDfg'].nunique()"
   ]
  },
  {
   "cell_type": "markdown",
   "id": "5fb5fa02-b074-416a-b031-e06cdc6af6d3",
   "metadata": {},
   "source": [
    "## v2\n",
    "- 4년동안 규정이닝을 채운 선수"
   ]
  },
  {
   "cell_type": "code",
   "execution_count": 13,
   "id": "b2d72f5c-3926-4d8e-8078-082fe0e94e70",
   "metadata": {},
   "outputs": [],
   "source": [
    "id_v2_fg = classic_data_v2.groupby(['IDfg'])['Season'].size()[classic_data_v2.groupby(['IDfg'])['Season'].size()>=4].index"
   ]
  },
  {
   "cell_type": "code",
   "execution_count": 14,
   "id": "4306989a-5f7d-437b-8795-ec3e27a608f7",
   "metadata": {},
   "outputs": [],
   "source": [
    "id_v2 = pybaseball.playerid_reverse_lookup(player_ids=list(id_v2_fg),key_type='fangraphs')['key_mlbam']"
   ]
  },
  {
   "cell_type": "code",
   "execution_count": 15,
   "id": "4c03c004-adfa-4f04-aeef-3b3da58c693b",
   "metadata": {},
   "outputs": [],
   "source": [
    "ars_v2 = ars_data[ars_data['pitcher'].isin(id_v2)]\n",
    "exit_v2 = exit_data[exit_data['player_id'].isin(id_v2)]\n",
    "timer_v2 = timer_rg[timer_rg['entity_id'].isin(id_v2)]\n"
   ]
  },
  {
   "cell_type": "code",
   "execution_count": null,
   "id": "f4235037-e91d-4a85-9c9f-84a1ef1e5e3d",
   "metadata": {},
   "outputs": [],
   "source": []
  },
  {
   "cell_type": "code",
   "execution_count": null,
   "id": "4f4b33a8-d7ed-46c3-a806-9ca197e3e487",
   "metadata": {},
   "outputs": [],
   "source": []
  }
 ],
 "metadata": {
  "kernelspec": {
   "display_name": "Python 3 (ipykernel)",
   "language": "python",
   "name": "python3"
  },
  "language_info": {
   "codemirror_mode": {
    "name": "ipython",
    "version": 3
   },
   "file_extension": ".py",
   "mimetype": "text/x-python",
   "name": "python",
   "nbconvert_exporter": "python",
   "pygments_lexer": "ipython3",
   "version": "3.13.1"
  }
 },
 "nbformat": 4,
 "nbformat_minor": 5
}
