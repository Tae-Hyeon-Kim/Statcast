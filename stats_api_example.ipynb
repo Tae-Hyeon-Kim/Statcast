{
 "cells": [
  {
   "cell_type": "code",
   "execution_count": 1,
   "id": "f18e1566-20cd-4e5c-b7c4-094b3314f332",
   "metadata": {},
   "outputs": [],
   "source": [
    "import statsapi"
   ]
  },
  {
   "cell_type": "markdown",
   "id": "487cad05-d97e-4cc3-bc19-4eee2cec1a24",
   "metadata": {},
   "source": [
    "# schedule"
   ]
  },
  {
   "cell_type": "code",
   "execution_count": 2,
   "id": "1efa2f6d-999b-44cc-8f6c-6ce4066e84db",
   "metadata": {},
   "outputs": [],
   "source": [
    "sched = statsapi.schedule(start_date='07/01/2024',end_date='07/02/2024')"
   ]
  },
  {
   "cell_type": "code",
   "execution_count": 3,
   "id": "4039c8ef-ac1a-4626-8041-ed10eb0a9cfd",
   "metadata": {
    "scrolled": true
   },
   "outputs": [
    {
     "data": {
      "text/plain": [
       "[{'game_id': 744914,\n",
       "  'game_datetime': '2024-07-01T19:07:00Z',\n",
       "  'game_date': '2024-07-01',\n",
       "  'game_type': 'R',\n",
       "  'status': 'Final',\n",
       "  'away_name': 'Houston Astros',\n",
       "  'home_name': 'Toronto Blue Jays',\n",
       "  'away_id': 117,\n",
       "  'home_id': 141,\n",
       "  'doubleheader': 'N',\n",
       "  'game_num': 1,\n",
       "  'home_probable_pitcher': 'Yariel Rodríguez',\n",
       "  'away_probable_pitcher': 'Hunter Brown',\n",
       "  'home_pitcher_note': '',\n",
       "  'away_pitcher_note': '',\n",
       "  'away_score': 3,\n",
       "  'home_score': 1,\n",
       "  'current_inning': 9,\n",
       "  'inning_state': 'Bottom',\n",
       "  'venue_id': 14,\n",
       "  'venue_name': 'Rogers Centre',\n",
       "  'national_broadcasts': ['MLBN (out-of-market only)', 'MLB.tv Free Game'],\n",
       "  'series_status': 'HOU leads 1-0',\n",
       "  'winning_team': 'Houston Astros',\n",
       "  'losing_team': 'Toronto Blue Jays',\n",
       "  'winning_pitcher': 'Hunter Brown',\n",
       "  'losing_pitcher': 'Yariel Rodríguez',\n",
       "  'save_pitcher': 'Josh Hader',\n",
       "  'summary': '2024-07-01 - Houston Astros (3) @ Toronto Blue Jays (1) (Final)'},\n",
       " {'game_id': 744840,\n",
       "  'game_datetime': '2024-07-01T22:45:00Z',\n",
       "  'game_date': '2024-07-01',\n",
       "  'game_type': 'R',\n",
       "  'status': 'Final',\n",
       "  'away_name': 'New York Mets',\n",
       "  'home_name': 'Washington Nationals',\n",
       "  'away_id': 121,\n",
       "  'home_id': 120,\n",
       "  'doubleheader': 'N',\n",
       "  'game_num': 1,\n",
       "  'home_probable_pitcher': 'MacKenzie Gore',\n",
       "  'away_probable_pitcher': 'David Peterson',\n",
       "  'home_pitcher_note': '',\n",
       "  'away_pitcher_note': '',\n",
       "  'away_score': 9,\n",
       "  'home_score': 7,\n",
       "  'current_inning': 10,\n",
       "  'inning_state': 'Bottom',\n",
       "  'venue_id': 3309,\n",
       "  'venue_name': 'Nationals Park',\n",
       "  'national_broadcasts': ['MLBN (out-of-market only)'],\n",
       "  'series_status': 'NYM leads 1-0',\n",
       "  'winning_team': 'New York Mets',\n",
       "  'losing_team': 'Washington Nationals',\n",
       "  'winning_pitcher': 'Jake Diekman',\n",
       "  'losing_pitcher': 'Hunter Harvey',\n",
       "  'save_pitcher': 'Reed Garrett',\n",
       "  'summary': '2024-07-01 - New York Mets (9) @ Washington Nationals (7) (Final)'},\n",
       " {'game_id': 746535,\n",
       "  'game_datetime': '2024-07-02T00:40:00Z',\n",
       "  'game_date': '2024-07-01',\n",
       "  'game_type': 'R',\n",
       "  'status': 'Final',\n",
       "  'away_name': 'Milwaukee Brewers',\n",
       "  'home_name': 'Colorado Rockies',\n",
       "  'away_id': 158,\n",
       "  'home_id': 115,\n",
       "  'doubleheader': 'N',\n",
       "  'game_num': 1,\n",
       "  'home_probable_pitcher': 'Austin Gomber',\n",
       "  'away_probable_pitcher': 'Rob Zastryzny',\n",
       "  'home_pitcher_note': '',\n",
       "  'away_pitcher_note': '',\n",
       "  'away_score': 7,\n",
       "  'home_score': 8,\n",
       "  'current_inning': 10,\n",
       "  'inning_state': 'Bottom',\n",
       "  'venue_id': 19,\n",
       "  'venue_name': 'Coors Field',\n",
       "  'national_broadcasts': ['MLBN (out-of-market only)'],\n",
       "  'series_status': 'COL leads 1-0',\n",
       "  'winning_team': 'Colorado Rockies',\n",
       "  'losing_team': 'Milwaukee Brewers',\n",
       "  'winning_pitcher': 'Tyler Kinley',\n",
       "  'losing_pitcher': 'Joel Payamps',\n",
       "  'save_pitcher': None,\n",
       "  'summary': '2024-07-01 - Milwaukee Brewers (7) @ Colorado Rockies (8) (Final)'},\n",
       " {'game_id': 745482,\n",
       "  'game_datetime': '2024-07-02T22:40:00Z',\n",
       "  'game_date': '2024-07-02',\n",
       "  'game_type': 'R',\n",
       "  'status': 'Final',\n",
       "  'away_name': 'St. Louis Cardinals',\n",
       "  'home_name': 'Pittsburgh Pirates',\n",
       "  'away_id': 138,\n",
       "  'home_id': 134,\n",
       "  'doubleheader': 'N',\n",
       "  'game_num': 1,\n",
       "  'home_probable_pitcher': 'Mitch Keller',\n",
       "  'away_probable_pitcher': 'Kyle Gibson',\n",
       "  'home_pitcher_note': '',\n",
       "  'away_pitcher_note': '',\n",
       "  'away_score': 7,\n",
       "  'home_score': 4,\n",
       "  'current_inning': 9,\n",
       "  'inning_state': 'Bottom',\n",
       "  'venue_id': 31,\n",
       "  'venue_name': 'PNC Park',\n",
       "  'national_broadcasts': [],\n",
       "  'series_status': None,\n",
       "  'winning_team': 'St. Louis Cardinals',\n",
       "  'losing_team': 'Pittsburgh Pirates',\n",
       "  'winning_pitcher': 'Kyle Gibson',\n",
       "  'losing_pitcher': 'Mitch Keller',\n",
       "  'save_pitcher': 'Ryan Helsley',\n",
       "  'summary': '2024-07-02 - St. Louis Cardinals (7) @ Pittsburgh Pirates (4) (Final)'},\n",
       " {'game_id': 746623,\n",
       "  'game_datetime': '2024-07-02T22:40:00Z',\n",
       "  'game_date': '2024-07-02',\n",
       "  'game_type': 'R',\n",
       "  'status': 'Final',\n",
       "  'away_name': 'Chicago White Sox',\n",
       "  'home_name': 'Cleveland Guardians',\n",
       "  'away_id': 145,\n",
       "  'home_id': 114,\n",
       "  'doubleheader': 'N',\n",
       "  'game_num': 1,\n",
       "  'home_probable_pitcher': 'Carlos Carrasco',\n",
       "  'away_probable_pitcher': 'Chris Flexen',\n",
       "  'home_pitcher_note': '',\n",
       "  'away_pitcher_note': '',\n",
       "  'away_score': 6,\n",
       "  'home_score': 7,\n",
       "  'current_inning': 9,\n",
       "  'inning_state': 'Bottom',\n",
       "  'venue_id': 5,\n",
       "  'venue_name': 'Progressive Field',\n",
       "  'national_broadcasts': [],\n",
       "  'series_status': 'CLE leads 1-0',\n",
       "  'winning_team': 'Cleveland Guardians',\n",
       "  'losing_team': 'Chicago White Sox',\n",
       "  'winning_pitcher': 'Emmanuel Clase',\n",
       "  'losing_pitcher': 'Michael Kopech',\n",
       "  'save_pitcher': None,\n",
       "  'summary': '2024-07-02 - Chicago White Sox (6) @ Cleveland Guardians (7) (Final)'},\n",
       " {'game_id': 746047,\n",
       "  'game_datetime': '2024-07-02T22:40:00Z',\n",
       "  'game_date': '2024-07-02',\n",
       "  'game_type': 'R',\n",
       "  'status': 'Final',\n",
       "  'away_name': 'Boston Red Sox',\n",
       "  'home_name': 'Miami Marlins',\n",
       "  'away_id': 111,\n",
       "  'home_id': 146,\n",
       "  'doubleheader': 'N',\n",
       "  'game_num': 1,\n",
       "  'home_probable_pitcher': 'Valente Bellozo',\n",
       "  'away_probable_pitcher': 'Kutter Crawford',\n",
       "  'home_pitcher_note': '',\n",
       "  'away_pitcher_note': '',\n",
       "  'away_score': 8,\n",
       "  'home_score': 3,\n",
       "  'current_inning': 9,\n",
       "  'inning_state': 'Bottom',\n",
       "  'venue_id': 4169,\n",
       "  'venue_name': 'loanDepot park',\n",
       "  'national_broadcasts': [],\n",
       "  'series_status': 'BOS leads 1-0',\n",
       "  'winning_team': 'Boston Red Sox',\n",
       "  'losing_team': 'Miami Marlins',\n",
       "  'winning_pitcher': 'Kutter Crawford',\n",
       "  'losing_pitcher': 'Valente Bellozo',\n",
       "  'save_pitcher': None,\n",
       "  'summary': '2024-07-02 - Boston Red Sox (8) @ Miami Marlins (3) (Final)'},\n",
       " {'game_id': 744838,\n",
       "  'game_datetime': '2024-07-02T22:45:00Z',\n",
       "  'game_date': '2024-07-02',\n",
       "  'game_type': 'R',\n",
       "  'status': 'Final',\n",
       "  'away_name': 'New York Mets',\n",
       "  'home_name': 'Washington Nationals',\n",
       "  'away_id': 121,\n",
       "  'home_id': 120,\n",
       "  'doubleheader': 'N',\n",
       "  'game_num': 1,\n",
       "  'home_probable_pitcher': 'DJ Herz',\n",
       "  'away_probable_pitcher': 'Sean Manaea',\n",
       "  'home_pitcher_note': '',\n",
       "  'away_pitcher_note': '',\n",
       "  'away_score': 7,\n",
       "  'home_score': 2,\n",
       "  'current_inning': 10,\n",
       "  'inning_state': 'Bottom',\n",
       "  'venue_id': 3309,\n",
       "  'venue_name': 'Nationals Park',\n",
       "  'national_broadcasts': [],\n",
       "  'series_status': 'NYM leads 2-0',\n",
       "  'winning_team': 'New York Mets',\n",
       "  'losing_team': 'Washington Nationals',\n",
       "  'winning_pitcher': 'José Buttó',\n",
       "  'losing_pitcher': 'Robert Garcia',\n",
       "  'save_pitcher': None,\n",
       "  'summary': '2024-07-02 - New York Mets (7) @ Washington Nationals (2) (Final)'},\n",
       " {'game_id': 745730,\n",
       "  'game_datetime': '2024-07-02T23:05:00Z',\n",
       "  'game_date': '2024-07-02',\n",
       "  'game_type': 'R',\n",
       "  'status': 'Final',\n",
       "  'away_name': 'Cincinnati Reds',\n",
       "  'home_name': 'New York Yankees',\n",
       "  'away_id': 113,\n",
       "  'home_id': 147,\n",
       "  'doubleheader': 'N',\n",
       "  'game_num': 1,\n",
       "  'home_probable_pitcher': 'Luis Gil',\n",
       "  'away_probable_pitcher': 'Graham Ashcraft',\n",
       "  'home_pitcher_note': '',\n",
       "  'away_pitcher_note': '',\n",
       "  'away_score': 5,\n",
       "  'home_score': 4,\n",
       "  'current_inning': 9,\n",
       "  'inning_state': 'Bottom',\n",
       "  'venue_id': 3313,\n",
       "  'venue_name': 'Yankee Stadium',\n",
       "  'national_broadcasts': [],\n",
       "  'series_status': 'CIN leads 1-0',\n",
       "  'winning_team': 'Cincinnati Reds',\n",
       "  'losing_team': 'New York Yankees',\n",
       "  'winning_pitcher': 'Graham Ashcraft',\n",
       "  'losing_pitcher': 'Luis Gil',\n",
       "  'save_pitcher': 'Alexis Díaz',\n",
       "  'summary': '2024-07-02 - Cincinnati Reds (5) @ New York Yankees (4) (Final)'},\n",
       " {'game_id': 744913,\n",
       "  'game_datetime': '2024-07-02T23:07:00Z',\n",
       "  'game_date': '2024-07-02',\n",
       "  'game_type': 'R',\n",
       "  'status': 'Final',\n",
       "  'away_name': 'Houston Astros',\n",
       "  'home_name': 'Toronto Blue Jays',\n",
       "  'away_id': 117,\n",
       "  'home_id': 141,\n",
       "  'doubleheader': 'N',\n",
       "  'game_num': 1,\n",
       "  'home_probable_pitcher': 'José Berríos',\n",
       "  'away_probable_pitcher': 'Spencer Arrighetti',\n",
       "  'home_pitcher_note': '',\n",
       "  'away_pitcher_note': '',\n",
       "  'away_score': 6,\n",
       "  'home_score': 7,\n",
       "  'current_inning': 9,\n",
       "  'inning_state': 'Top',\n",
       "  'venue_id': 14,\n",
       "  'venue_name': 'Rogers Centre',\n",
       "  'national_broadcasts': [],\n",
       "  'series_status': 'Series tied 1-1',\n",
       "  'winning_team': 'Toronto Blue Jays',\n",
       "  'losing_team': 'Houston Astros',\n",
       "  'winning_pitcher': 'José Berríos',\n",
       "  'losing_pitcher': 'Spencer Arrighetti',\n",
       "  'save_pitcher': 'Chad Green',\n",
       "  'summary': '2024-07-02 - Houston Astros (6) @ Toronto Blue Jays (7) (Final)'},\n",
       " {'game_id': 747102,\n",
       "  'game_datetime': '2024-07-02T23:20:00Z',\n",
       "  'game_date': '2024-07-02',\n",
       "  'game_type': 'R',\n",
       "  'status': 'Final',\n",
       "  'away_name': 'San Francisco Giants',\n",
       "  'home_name': 'Atlanta Braves',\n",
       "  'away_id': 137,\n",
       "  'home_id': 144,\n",
       "  'doubleheader': 'N',\n",
       "  'game_num': 1,\n",
       "  'home_probable_pitcher': 'Reynaldo López',\n",
       "  'away_probable_pitcher': 'Hayden Birdsong',\n",
       "  'home_pitcher_note': '',\n",
       "  'away_pitcher_note': '',\n",
       "  'away_score': 5,\n",
       "  'home_score': 3,\n",
       "  'current_inning': 9,\n",
       "  'inning_state': 'Bottom',\n",
       "  'venue_id': 4705,\n",
       "  'venue_name': 'Truist Park',\n",
       "  'national_broadcasts': [],\n",
       "  'series_status': 'SF leads 1-0',\n",
       "  'winning_team': 'San Francisco Giants',\n",
       "  'losing_team': 'Atlanta Braves',\n",
       "  'winning_pitcher': 'Hayden Birdsong',\n",
       "  'losing_pitcher': 'Dylan Lee',\n",
       "  'save_pitcher': 'Camilo Doval',\n",
       "  'summary': '2024-07-02 - San Francisco Giants (5) @ Atlanta Braves (3) (Final)'},\n",
       " {'game_id': 745886,\n",
       "  'game_datetime': '2024-07-02T23:40:00Z',\n",
       "  'game_date': '2024-07-02',\n",
       "  'game_type': 'R',\n",
       "  'status': 'Final',\n",
       "  'away_name': 'Detroit Tigers',\n",
       "  'home_name': 'Minnesota Twins',\n",
       "  'away_id': 116,\n",
       "  'home_id': 142,\n",
       "  'doubleheader': 'N',\n",
       "  'game_num': 1,\n",
       "  'home_probable_pitcher': 'Simeon Woods Richardson',\n",
       "  'away_probable_pitcher': 'Tarik Skubal',\n",
       "  'home_pitcher_note': '',\n",
       "  'away_pitcher_note': '',\n",
       "  'away_score': 3,\n",
       "  'home_score': 5,\n",
       "  'current_inning': 9,\n",
       "  'inning_state': 'Top',\n",
       "  'venue_id': 3312,\n",
       "  'venue_name': 'Target Field',\n",
       "  'national_broadcasts': [],\n",
       "  'series_status': 'MIN leads 1-0',\n",
       "  'winning_team': 'Minnesota Twins',\n",
       "  'losing_team': 'Detroit Tigers',\n",
       "  'winning_pitcher': 'Jorge Alcala',\n",
       "  'losing_pitcher': 'Will Vest',\n",
       "  'save_pitcher': 'Jhoan Duran',\n",
       "  'summary': '2024-07-02 - Detroit Tigers (3) @ Minnesota Twins (5) (Final)'},\n",
       " {'game_id': 744999,\n",
       "  'game_datetime': '2024-07-03T00:05:00Z',\n",
       "  'game_date': '2024-07-02',\n",
       "  'game_type': 'R',\n",
       "  'status': 'Final',\n",
       "  'away_name': 'San Diego Padres',\n",
       "  'home_name': 'Texas Rangers',\n",
       "  'away_id': 135,\n",
       "  'home_id': 140,\n",
       "  'doubleheader': 'N',\n",
       "  'game_num': 1,\n",
       "  'home_probable_pitcher': 'Nathan Eovaldi',\n",
       "  'away_probable_pitcher': 'Dylan Cease',\n",
       "  'home_pitcher_note': '',\n",
       "  'away_pitcher_note': '',\n",
       "  'away_score': 0,\n",
       "  'home_score': 7,\n",
       "  'current_inning': 9,\n",
       "  'inning_state': 'Top',\n",
       "  'venue_id': 5325,\n",
       "  'venue_name': 'Globe Life Field',\n",
       "  'national_broadcasts': [],\n",
       "  'series_status': 'TEX leads 1-0',\n",
       "  'winning_team': 'Texas Rangers',\n",
       "  'losing_team': 'San Diego Padres',\n",
       "  'winning_pitcher': 'Nathan Eovaldi',\n",
       "  'losing_pitcher': 'Dylan Cease',\n",
       "  'save_pitcher': None,\n",
       "  'summary': '2024-07-02 - San Diego Padres (0) @ Texas Rangers (7) (Final)'},\n",
       " {'game_id': 746860,\n",
       "  'game_datetime': '2024-07-03T00:05:00Z',\n",
       "  'game_date': '2024-07-02',\n",
       "  'game_type': 'R',\n",
       "  'status': 'Final',\n",
       "  'away_name': 'Philadelphia Phillies',\n",
       "  'home_name': 'Chicago Cubs',\n",
       "  'away_id': 143,\n",
       "  'home_id': 112,\n",
       "  'doubleheader': 'N',\n",
       "  'game_num': 1,\n",
       "  'home_probable_pitcher': 'Hayden Wesneski',\n",
       "  'away_probable_pitcher': 'Michael Mercado',\n",
       "  'home_pitcher_note': '',\n",
       "  'away_pitcher_note': '',\n",
       "  'away_score': 6,\n",
       "  'home_score': 4,\n",
       "  'current_inning': 9,\n",
       "  'inning_state': 'Bottom',\n",
       "  'venue_id': 17,\n",
       "  'venue_name': 'Wrigley Field',\n",
       "  'national_broadcasts': ['TBS'],\n",
       "  'series_status': 'PHI leads 1-0',\n",
       "  'winning_team': 'Philadelphia Phillies',\n",
       "  'losing_team': 'Chicago Cubs',\n",
       "  'winning_pitcher': 'Michael Mercado',\n",
       "  'losing_pitcher': 'Hayden Wesneski',\n",
       "  'save_pitcher': 'Jeff Hoffman',\n",
       "  'summary': '2024-07-02 - Philadelphia Phillies (6) @ Chicago Cubs (4) (Final)'},\n",
       " {'game_id': 746282,\n",
       "  'game_datetime': '2024-07-03T00:10:00Z',\n",
       "  'game_date': '2024-07-02',\n",
       "  'game_type': 'R',\n",
       "  'status': 'Final',\n",
       "  'away_name': 'Tampa Bay Rays',\n",
       "  'home_name': 'Kansas City Royals',\n",
       "  'away_id': 139,\n",
       "  'home_id': 118,\n",
       "  'doubleheader': 'N',\n",
       "  'game_num': 1,\n",
       "  'home_probable_pitcher': 'Brady Singer',\n",
       "  'away_probable_pitcher': 'Zack Littell',\n",
       "  'home_pitcher_note': '',\n",
       "  'away_pitcher_note': '',\n",
       "  'away_score': 5,\n",
       "  'home_score': 1,\n",
       "  'current_inning': 9,\n",
       "  'inning_state': 'Bottom',\n",
       "  'venue_id': 7,\n",
       "  'venue_name': 'Kauffman Stadium',\n",
       "  'national_broadcasts': [],\n",
       "  'series_status': 'TB leads 1-0',\n",
       "  'winning_team': 'Tampa Bay Rays',\n",
       "  'losing_team': 'Kansas City Royals',\n",
       "  'winning_pitcher': 'Zack Littell',\n",
       "  'losing_pitcher': 'Brady Singer',\n",
       "  'save_pitcher': None,\n",
       "  'summary': '2024-07-02 - Tampa Bay Rays (5) @ Kansas City Royals (1) (Final)'},\n",
       " {'game_id': 746537,\n",
       "  'game_datetime': '2024-07-03T00:40:00Z',\n",
       "  'game_date': '2024-07-02',\n",
       "  'game_type': 'R',\n",
       "  'status': 'Final',\n",
       "  'away_name': 'Milwaukee Brewers',\n",
       "  'home_name': 'Colorado Rockies',\n",
       "  'away_id': 158,\n",
       "  'home_id': 115,\n",
       "  'doubleheader': 'N',\n",
       "  'game_num': 1,\n",
       "  'home_probable_pitcher': 'Ryan Feltner',\n",
       "  'away_probable_pitcher': 'Dallas Keuchel',\n",
       "  'home_pitcher_note': '',\n",
       "  'away_pitcher_note': '',\n",
       "  'away_score': 4,\n",
       "  'home_score': 3,\n",
       "  'current_inning': 9,\n",
       "  'inning_state': 'Bottom',\n",
       "  'venue_id': 19,\n",
       "  'venue_name': 'Coors Field',\n",
       "  'national_broadcasts': [],\n",
       "  'series_status': 'Series tied 1-1',\n",
       "  'winning_team': 'Milwaukee Brewers',\n",
       "  'losing_team': 'Colorado Rockies',\n",
       "  'winning_pitcher': 'Rob Zastryzny',\n",
       "  'losing_pitcher': 'Nick Mears',\n",
       "  'save_pitcher': 'Trevor Megill',\n",
       "  'summary': '2024-07-02 - Milwaukee Brewers (4) @ Colorado Rockies (3) (Final)'},\n",
       " {'game_id': 745647,\n",
       "  'game_datetime': '2024-07-03T01:40:00Z',\n",
       "  'game_date': '2024-07-02',\n",
       "  'game_type': 'R',\n",
       "  'status': 'Final',\n",
       "  'away_name': 'Los Angeles Angels',\n",
       "  'home_name': 'Oakland Athletics',\n",
       "  'away_id': 108,\n",
       "  'home_id': 133,\n",
       "  'doubleheader': 'N',\n",
       "  'game_num': 1,\n",
       "  'home_probable_pitcher': 'Mitch Spence',\n",
       "  'away_probable_pitcher': 'José Soriano',\n",
       "  'home_pitcher_note': '',\n",
       "  'away_pitcher_note': '',\n",
       "  'away_score': 5,\n",
       "  'home_score': 7,\n",
       "  'current_inning': 9,\n",
       "  'inning_state': 'Top',\n",
       "  'venue_id': 10,\n",
       "  'venue_name': 'Oakland Coliseum',\n",
       "  'national_broadcasts': [],\n",
       "  'series_status': 'OAK leads 1-0',\n",
       "  'winning_team': 'Oakland Athletics',\n",
       "  'losing_team': 'Los Angeles Angels',\n",
       "  'winning_pitcher': 'Mitch Spence',\n",
       "  'losing_pitcher': 'José Soriano',\n",
       "  'save_pitcher': None,\n",
       "  'summary': '2024-07-02 - Los Angeles Angels (5) @ Oakland Athletics (7) (Final)'},\n",
       " {'game_id': 745240,\n",
       "  'game_datetime': '2024-07-03T01:40:00Z',\n",
       "  'game_date': '2024-07-02',\n",
       "  'game_type': 'R',\n",
       "  'status': 'Final',\n",
       "  'away_name': 'Baltimore Orioles',\n",
       "  'home_name': 'Seattle Mariners',\n",
       "  'away_id': 110,\n",
       "  'home_id': 136,\n",
       "  'doubleheader': 'N',\n",
       "  'game_num': 1,\n",
       "  'home_probable_pitcher': 'George Kirby',\n",
       "  'away_probable_pitcher': 'Grayson Rodriguez',\n",
       "  'home_pitcher_note': '',\n",
       "  'away_pitcher_note': '',\n",
       "  'away_score': 2,\n",
       "  'home_score': 0,\n",
       "  'current_inning': 9,\n",
       "  'inning_state': 'Bottom',\n",
       "  'venue_id': 680,\n",
       "  'venue_name': 'T-Mobile Park',\n",
       "  'national_broadcasts': [],\n",
       "  'series_status': 'BAL leads 1-0',\n",
       "  'winning_team': 'Baltimore Orioles',\n",
       "  'losing_team': 'Seattle Mariners',\n",
       "  'winning_pitcher': 'Grayson Rodriguez',\n",
       "  'losing_pitcher': 'George Kirby',\n",
       "  'save_pitcher': 'Craig Kimbrel',\n",
       "  'summary': '2024-07-02 - Baltimore Orioles (2) @ Seattle Mariners (0) (Final)'},\n",
       " {'game_id': 746133,\n",
       "  'game_datetime': '2024-07-03T02:10:00Z',\n",
       "  'game_date': '2024-07-02',\n",
       "  'game_type': 'R',\n",
       "  'status': 'Final',\n",
       "  'away_name': 'Arizona Diamondbacks',\n",
       "  'home_name': 'Los Angeles Dodgers',\n",
       "  'away_id': 109,\n",
       "  'home_id': 119,\n",
       "  'doubleheader': 'N',\n",
       "  'game_num': 1,\n",
       "  'home_probable_pitcher': 'Bobby Miller',\n",
       "  'away_probable_pitcher': 'Joe Mantiply',\n",
       "  'home_pitcher_note': '',\n",
       "  'away_pitcher_note': '',\n",
       "  'away_score': 5,\n",
       "  'home_score': 6,\n",
       "  'current_inning': 9,\n",
       "  'inning_state': 'Bottom',\n",
       "  'venue_id': 22,\n",
       "  'venue_name': 'Dodger Stadium',\n",
       "  'national_broadcasts': ['MLBN (out-of-market only)', 'MLB.tv Free Game'],\n",
       "  'series_status': 'LAD leads 1-0',\n",
       "  'winning_team': 'Los Angeles Dodgers',\n",
       "  'losing_team': 'Arizona Diamondbacks',\n",
       "  'winning_pitcher': 'Evan Phillips',\n",
       "  'losing_pitcher': 'Paul Sewald',\n",
       "  'save_pitcher': None,\n",
       "  'summary': '2024-07-02 - Arizona Diamondbacks (5) @ Los Angeles Dodgers (6) (Final)'}]"
      ]
     },
     "execution_count": 3,
     "metadata": {},
     "output_type": "execute_result"
    }
   ],
   "source": [
    "sched"
   ]
  },
  {
   "cell_type": "markdown",
   "id": "444babe3-25de-4c92-a695-11e75162ba4e",
   "metadata": {},
   "source": [
    "# game"
   ]
  },
  {
   "cell_type": "code",
   "execution_count": 4,
   "id": "0ed74154-0f05-442f-a6b9-66be7eaa7a37",
   "metadata": {},
   "outputs": [],
   "source": [
    "tmp = statsapi.get('game',params={'gamePk':744914})"
   ]
  },
  {
   "cell_type": "code",
   "execution_count": 5,
   "id": "7ecbe9f4-ecdf-48f7-8bb9-1f85b9ec72a1",
   "metadata": {},
   "outputs": [
    {
     "data": {
      "text/plain": [
       "dict_keys(['copyright', 'gamePk', 'link', 'metaData', 'gameData', 'liveData'])"
      ]
     },
     "execution_count": 5,
     "metadata": {},
     "output_type": "execute_result"
    }
   ],
   "source": [
    "statsapi.get('game',params={'gamePk':744914}).keys()"
   ]
  },
  {
   "cell_type": "code",
   "execution_count": 6,
   "id": "9de8ae36-eea2-4d4c-9995-767e971b8121",
   "metadata": {},
   "outputs": [
    {
     "data": {
      "text/plain": [
       "744914"
      ]
     },
     "execution_count": 6,
     "metadata": {},
     "output_type": "execute_result"
    }
   ],
   "source": [
    "statsapi.get('game',params={'gamePk':744914})['gamePk']"
   ]
  },
  {
   "cell_type": "code",
   "execution_count": 7,
   "id": "616cc918-e346-48f9-b322-a26f7ec29d1e",
   "metadata": {},
   "outputs": [
    {
     "data": {
      "text/plain": [
       "dict_keys(['game', 'datetime', 'status', 'teams', 'players', 'venue', 'officialVenue', 'weather', 'gameInfo', 'review', 'flags', 'alerts', 'probablePitchers', 'officialScorer', 'primaryDatacaster', 'moundVisits'])"
      ]
     },
     "execution_count": 7,
     "metadata": {},
     "output_type": "execute_result"
    }
   ],
   "source": [
    "tmp['gameData'].keys()"
   ]
  },
  {
   "cell_type": "code",
   "execution_count": null,
   "id": "06886c6e-ece3-4b91-ba14-fc10464c5489",
   "metadata": {},
   "outputs": [],
   "source": []
  },
  {
   "cell_type": "code",
   "execution_count": 8,
   "id": "90b652a1-8490-45e9-a4ba-e52e83094ca8",
   "metadata": {},
   "outputs": [
    {
     "data": {
      "text/plain": [
       "{'away': {'id': 686613,\n",
       "  'fullName': 'Hunter Brown',\n",
       "  'link': '/api/v1/people/686613'},\n",
       " 'home': {'id': 684320,\n",
       "  'fullName': 'Yariel Rodríguez',\n",
       "  'link': '/api/v1/people/684320'}}"
      ]
     },
     "execution_count": 8,
     "metadata": {},
     "output_type": "execute_result"
    }
   ],
   "source": [
    "tmp['gameData']['probablePitchers']"
   ]
  },
  {
   "cell_type": "code",
   "execution_count": 9,
   "id": "82940242-d501-49f1-8cb8-28abbdd0cca4",
   "metadata": {
    "scrolled": true
   },
   "outputs": [
    {
     "data": {
      "text/plain": [
       "{'pk': 744914,\n",
       " 'type': 'R',\n",
       " 'doubleHeader': 'N',\n",
       " 'id': '2024/07/01/houmlb-tormlb-1',\n",
       " 'gamedayType': 'P',\n",
       " 'tiebreaker': 'N',\n",
       " 'gameNumber': 1,\n",
       " 'calendarEventID': '14-744914-2024-07-01',\n",
       " 'season': '2024',\n",
       " 'seasonDisplay': '2024'}"
      ]
     },
     "execution_count": 9,
     "metadata": {},
     "output_type": "execute_result"
    }
   ],
   "source": [
    "tmp['gameData']['game']"
   ]
  },
  {
   "cell_type": "markdown",
   "id": "0b8be3a3-a80b-4370-8e09-68ba54b591b1",
   "metadata": {},
   "source": [
    "#  game_winprobablity"
   ]
  },
  {
   "cell_type": "code",
   "execution_count": 10,
   "id": "9ec8ed6b-1ce8-4d24-95fc-fe1b22b811a0",
   "metadata": {},
   "outputs": [],
   "source": [
    "tmp2 = statsapi.get('game_winProbability',params={'gamePk':744914})"
   ]
  },
  {
   "cell_type": "code",
   "execution_count": 11,
   "id": "be4fecf2-cb5a-4905-aec1-321c29d0e6fe",
   "metadata": {},
   "outputs": [
    {
     "data": {
      "text/plain": [
       "68"
      ]
     },
     "execution_count": 11,
     "metadata": {},
     "output_type": "execute_result"
    }
   ],
   "source": [
    "len(tmp2)"
   ]
  },
  {
   "cell_type": "code",
   "execution_count": 12,
   "id": "a7521bd2-9227-485f-8b77-5eeefd5b510d",
   "metadata": {
    "scrolled": true
   },
   "outputs": [
    {
     "data": {
      "text/plain": [
       "dict_keys(['result', 'about', 'count', 'matchup', 'pitchIndex', 'actionIndex', 'runnerIndex', 'runners', 'playEvents', 'credits', 'flags', 'homeTeamWinProbability', 'awayTeamWinProbability', 'homeTeamWinProbabilityAdded', 'contextMetrics', 'playEndTime', 'atBatIndex'])"
      ]
     },
     "execution_count": 12,
     "metadata": {},
     "output_type": "execute_result"
    }
   ],
   "source": [
    "tmp2[0].keys()"
   ]
  },
  {
   "cell_type": "code",
   "execution_count": 13,
   "id": "49ec3751-5f48-42cb-9ae0-7eec7c685ab5",
   "metadata": {},
   "outputs": [
    {
     "data": {
      "text/plain": [
       "47.8"
      ]
     },
     "execution_count": 13,
     "metadata": {},
     "output_type": "execute_result"
    }
   ],
   "source": [
    "tmp2[0]['awayTeamWinProbability']"
   ]
  },
  {
   "cell_type": "code",
   "execution_count": 14,
   "id": "668bedfe-48bf-4a14-a763-74ab727af298",
   "metadata": {},
   "outputs": [
    {
     "data": {
      "text/plain": [
       "7"
      ]
     },
     "execution_count": 14,
     "metadata": {},
     "output_type": "execute_result"
    }
   ],
   "source": [
    "len(tmp2[0]['playEvents'])"
   ]
  },
  {
   "cell_type": "code",
   "execution_count": 15,
   "id": "dd0b6880-9d3d-4931-939b-065082902c26",
   "metadata": {},
   "outputs": [
    {
     "data": {
      "text/plain": [
       "{'details': {'description': 'Status Change - Pre-Game',\n",
       "  'event': 'Game Advisory',\n",
       "  'eventType': 'game_advisory',\n",
       "  'awayScore': 0,\n",
       "  'homeScore': 0,\n",
       "  'isScoringPlay': False,\n",
       "  'isOut': False,\n",
       "  'hasReview': False},\n",
       " 'count': {'balls': 0, 'strikes': 0, 'outs': 0},\n",
       " 'preCount': {'balls': 0, 'strikes': 0, 'outs': 0},\n",
       " 'index': 0,\n",
       " 'startTime': '2024-07-01T17:46:01.082Z',\n",
       " 'endTime': '2024-07-01T19:00:06.700Z',\n",
       " 'isPitch': False,\n",
       " 'type': 'action',\n",
       " 'player': {'id': 608324, 'link': '/api/v1/people/608324'},\n",
       " 'contextMetrics': {}}"
      ]
     },
     "execution_count": 15,
     "metadata": {},
     "output_type": "execute_result"
    }
   ],
   "source": [
    "tmp2[0]['playEvents'][0]"
   ]
  },
  {
   "cell_type": "code",
   "execution_count": 16,
   "id": "78917579-ccf2-438c-85e9-e35709bc675e",
   "metadata": {},
   "outputs": [
    {
     "data": {
      "text/plain": [
       "{'details': {'description': 'Status Change - Warmup',\n",
       "  'event': 'Game Advisory',\n",
       "  'eventType': 'game_advisory',\n",
       "  'awayScore': 0,\n",
       "  'homeScore': 0,\n",
       "  'isScoringPlay': False,\n",
       "  'isOut': False,\n",
       "  'hasReview': False},\n",
       " 'count': {'balls': 0, 'strikes': 0, 'outs': 0},\n",
       " 'preCount': {'balls': 0, 'strikes': 0, 'outs': 0},\n",
       " 'index': 1,\n",
       " 'startTime': '2024-07-01T19:00:06.700Z',\n",
       " 'endTime': '2024-07-01T19:00:17.979Z',\n",
       " 'isPitch': False,\n",
       " 'type': 'action',\n",
       " 'player': {'id': 608324, 'link': '/api/v1/people/608324'},\n",
       " 'contextMetrics': {}}"
      ]
     },
     "execution_count": 16,
     "metadata": {},
     "output_type": "execute_result"
    }
   ],
   "source": [
    "tmp2[0]['playEvents'][1]"
   ]
  },
  {
   "cell_type": "code",
   "execution_count": 17,
   "id": "7c267de9-4f6c-4bcf-83e9-26021e4a31bf",
   "metadata": {
    "scrolled": true
   },
   "outputs": [
    {
     "data": {
      "text/plain": [
       "{'details': {'call': {'code': 'S', 'description': 'Swinging Strike'},\n",
       "  'description': 'Swinging Strike',\n",
       "  'code': 'S',\n",
       "  'ballColor': 'rgba(170, 21, 11, 1.0)',\n",
       "  'trailColor': 'rgba(188, 0, 33, 1.0)',\n",
       "  'isInPlay': False,\n",
       "  'isStrike': True,\n",
       "  'isBall': False,\n",
       "  'type': {'code': 'FF', 'description': 'Four-Seam Fastball'},\n",
       "  'isOut': True,\n",
       "  'hasReview': False},\n",
       " 'count': {'balls': 0, 'strikes': 3, 'outs': 1},\n",
       " 'preCount': {'balls': 0, 'strikes': 2, 'outs': 1},\n",
       " 'pitchData': {'startSpeed': 95.7,\n",
       "  'endSpeed': 88.2,\n",
       "  'strikeZoneTop': 3.34,\n",
       "  'strikeZoneBottom': 1.49,\n",
       "  'coordinates': {'aY': 28.80455292833607,\n",
       "   'aZ': -18.689881911245752,\n",
       "   'pfxX': -0.7225896038550708,\n",
       "   'pfxZ': 6.795850024609161,\n",
       "   'pX': 0.39166439633468436,\n",
       "   'pZ': 3.357176576661467,\n",
       "   'vX0': 4.881291251399751,\n",
       "   'vY0': -139.37669122444123,\n",
       "   'vZ0': -2.9685466190770775,\n",
       "   'x': 102.07,\n",
       "   'y': 148.14,\n",
       "   'x0': -1.2820497741255825,\n",
       "   'y0': 50.00256041473637,\n",
       "   'z0': 5.657669314526358,\n",
       "   'aX': -1.4339033180897127},\n",
       "  'breaks': {'breakAngle': 1.2,\n",
       "   'breakLength': 3.6,\n",
       "   'breakY': 24.0,\n",
       "   'breakVertical': -17.6,\n",
       "   'breakVerticalInduced': 12.0,\n",
       "   'breakHorizontal': 0.4,\n",
       "   'spinRate': 2380,\n",
       "   'spinDirection': 203},\n",
       "  'zone': 3,\n",
       "  'typeConfidence': 2.0,\n",
       "  'plateTime': 0.39169429039459747,\n",
       "  'extension': 6.48093193726377},\n",
       " 'index': 2,\n",
       " 'playId': 'f2489139-a6a1-4bc6-8ba5-320ad7862c41',\n",
       " 'pitchNumber': 3,\n",
       " 'startTime': '2024-07-01T19:29:55.295Z',\n",
       " 'endTime': '2024-07-01T19:29:58.571Z',\n",
       " 'isPitch': True,\n",
       " 'type': 'pitch',\n",
       " 'defense': {'pitcher': {'id': 684320,\n",
       "   'link': '/api/v1/people/684320',\n",
       "   'pitchHand': {'code': 'R', 'description': 'Right'}},\n",
       "  'catcher': {'id': 672386, 'link': '/api/v1/people/672386'},\n",
       "  'first': {'id': 687462, 'link': '/api/v1/people/687462'},\n",
       "  'second': {'id': 676914, 'link': '/api/v1/people/676914'},\n",
       "  'third': {'id': 676391, 'link': '/api/v1/people/676391'},\n",
       "  'shortstop': {'id': 666182, 'link': '/api/v1/people/666182'},\n",
       "  'left': {'id': 662139, 'link': '/api/v1/people/662139'},\n",
       "  'center': {'id': 595281, 'link': '/api/v1/people/595281'},\n",
       "  'right': {'id': 543807, 'link': '/api/v1/people/543807'}},\n",
       " 'offense': {'batter': {'id': 676694,\n",
       "   'link': '/api/v1/people/676694',\n",
       "   'batSide': {'code': 'R', 'description': 'Right'}},\n",
       "  'batterPosition': {'code': '8',\n",
       "   'name': 'Outfielder',\n",
       "   'type': 'Outfielder',\n",
       "   'abbreviation': 'CF'}},\n",
       " 'officials': [{'official': {'id': 427044, 'link': '/api/v1/people/427044'},\n",
       "   'officialType': 'Home Plate'},\n",
       "  {'official': {'id': 644760, 'link': '/api/v1/people/644760'},\n",
       "   'officialType': 'First Base'},\n",
       "  {'official': {'id': 427248, 'link': '/api/v1/people/427248'},\n",
       "   'officialType': 'Second Base'},\n",
       "  {'official': {'id': 521251, 'link': '/api/v1/people/521251'},\n",
       "   'officialType': 'Third Base'}],\n",
       " 'contextMetrics': {}}"
      ]
     },
     "execution_count": 17,
     "metadata": {},
     "output_type": "execute_result"
    }
   ],
   "source": [
    "tmp2[1]['playEvents'][-1]"
   ]
  },
  {
   "cell_type": "markdown",
   "id": "a9fbf21f-c527-4be0-8592-b431cdc73e4e",
   "metadata": {},
   "source": [
    "# game_content"
   ]
  },
  {
   "cell_type": "code",
   "execution_count": null,
   "id": "915fe021-ea16-48db-82e8-b364d990ace3",
   "metadata": {},
   "outputs": [],
   "source": []
  },
  {
   "cell_type": "code",
   "execution_count": 18,
   "id": "59220982-4e8c-491c-a6bd-384a0099a5de",
   "metadata": {},
   "outputs": [],
   "source": [
    "tmp3 = statsapi.get('game_content',params={'gamePk':744914})"
   ]
  },
  {
   "cell_type": "code",
   "execution_count": 19,
   "id": "02e2e4d9-bd83-4379-bbcf-f534c48722ae",
   "metadata": {},
   "outputs": [
    {
     "data": {
      "text/plain": [
       "dict_keys(['copyright', 'link', 'editorial', 'media', 'highlights', 'summary', 'gameNotes'])"
      ]
     },
     "execution_count": 19,
     "metadata": {},
     "output_type": "execute_result"
    }
   ],
   "source": [
    "tmp3.keys()"
   ]
  },
  {
   "cell_type": "code",
   "execution_count": 20,
   "id": "86dc4312-db6a-4a52-9c95-58e53a247e88",
   "metadata": {
    "scrolled": true
   },
   "outputs": [
    {
     "data": {
      "text/plain": [
       "dict_keys(['scoreboard', 'gameCenter', 'milestone', 'highlights', 'live', 'scoreboardPreview'])"
      ]
     },
     "execution_count": 20,
     "metadata": {},
     "output_type": "execute_result"
    }
   ],
   "source": [
    "tmp3['highlights'].keys()"
   ]
  },
  {
   "cell_type": "code",
   "execution_count": 21,
   "id": "8dec95f1-2ebb-4b0d-90ad-874d74ec2042",
   "metadata": {},
   "outputs": [
    {
     "data": {
      "text/plain": [
       "{'hasPreviewArticle': False,\n",
       " 'hasRecapArticle': True,\n",
       " 'hasWrapArticle': False,\n",
       " 'hasHighlightsVideo': True}"
      ]
     },
     "execution_count": 21,
     "metadata": {},
     "output_type": "execute_result"
    }
   ],
   "source": [
    "tmp3['summary']"
   ]
  },
  {
   "cell_type": "markdown",
   "id": "4d2c8e2d-ab38-421c-ac3b-8e56ccd7e815",
   "metadata": {},
   "source": [
    "# game_color"
   ]
  },
  {
   "cell_type": "code",
   "execution_count": 22,
   "id": "484c5c1a-1374-4a4e-b481-2ed9756783e9",
   "metadata": {},
   "outputs": [],
   "source": [
    "tmp4= statsapi.get('game_playByPlay',params={'gamePk':744914})"
   ]
  },
  {
   "cell_type": "code",
   "execution_count": 23,
   "id": "88cf3ee8-7065-4bbf-be81-8719879dd202",
   "metadata": {},
   "outputs": [
    {
     "data": {
      "text/plain": [
       "dict_keys(['copyright', 'allPlays', 'currentPlay', 'scoringPlays', 'playsByInning'])"
      ]
     },
     "execution_count": 23,
     "metadata": {},
     "output_type": "execute_result"
    }
   ],
   "source": [
    "tmp4.keys()"
   ]
  },
  {
   "cell_type": "code",
   "execution_count": 24,
   "id": "6b2e7923-677d-4ac5-9709-bfced87bf36a",
   "metadata": {},
   "outputs": [
    {
     "data": {
      "text/plain": [
       "68"
      ]
     },
     "execution_count": 24,
     "metadata": {},
     "output_type": "execute_result"
    }
   ],
   "source": [
    "len(tmp4['allPlays'])"
   ]
  },
  {
   "cell_type": "code",
   "execution_count": 25,
   "id": "8384795d-2ee8-4ae5-b186-f727fe190eb6",
   "metadata": {},
   "outputs": [
    {
     "data": {
      "text/plain": [
       "dict_keys(['result', 'about', 'count', 'matchup', 'pitchIndex', 'actionIndex', 'runnerIndex', 'runners', 'playEvents', 'playEndTime', 'atBatIndex'])"
      ]
     },
     "execution_count": 25,
     "metadata": {},
     "output_type": "execute_result"
    }
   ],
   "source": [
    "tmp4['allPlays'][0].keys()"
   ]
  },
  {
   "cell_type": "code",
   "execution_count": 26,
   "id": "7098cefb-c107-4b57-ad1f-57fc1fdf2ace",
   "metadata": {
    "scrolled": true
   },
   "outputs": [
    {
     "data": {
      "text/plain": [
       "[{'details': {'call': {'code': 'F', 'description': 'Foul'},\n",
       "   'description': 'Foul',\n",
       "   'code': 'F',\n",
       "   'ballColor': 'rgba(170, 21, 11, 1.0)',\n",
       "   'trailColor': 'rgba(188, 0, 33, 1.0)',\n",
       "   'isInPlay': False,\n",
       "   'isStrike': True,\n",
       "   'isBall': False,\n",
       "   'type': {'code': 'FF', 'description': 'Four-Seam Fastball'},\n",
       "   'isOut': False,\n",
       "   'hasReview': False},\n",
       "  'count': {'balls': 0, 'strikes': 1, 'outs': 1},\n",
       "  'pitchData': {'startSpeed': 94.1,\n",
       "   'endSpeed': 87.3,\n",
       "   'strikeZoneTop': 3.34,\n",
       "   'strikeZoneBottom': 1.49,\n",
       "   'coordinates': {'aY': 26.369848939052677,\n",
       "    'aZ': -22.4579711649713,\n",
       "    'pfxX': -3.2336762517362034,\n",
       "    'pfxZ': 5.055108177413604,\n",
       "    'pX': 0.6537245624784469,\n",
       "    'pZ': 1.5336527183610165,\n",
       "    'vX0': 8.384952786139129,\n",
       "    'vY0': -136.83072454382278,\n",
       "    'vZ0': -5.66201618658233,\n",
       "    'x': 92.08,\n",
       "    'y': 197.37,\n",
       "    'x0': -2.0120309457246726,\n",
       "    'y0': 50.003952643049075,\n",
       "    'z0': 5.139951817260973,\n",
       "    'aX': -6.216837811231674},\n",
       "   'breaks': {'breakAngle': 10.8,\n",
       "    'breakLength': 4.8,\n",
       "    'breakY': 24.0,\n",
       "    'breakVertical': -22.3,\n",
       "    'breakVerticalInduced': 8.3,\n",
       "    'breakHorizontal': 4.3,\n",
       "    'spinRate': 2375,\n",
       "    'spinDirection': 220},\n",
       "   'zone': 9,\n",
       "   'typeConfidence': 2.0,\n",
       "   'plateTime': 0.39826095515754556,\n",
       "   'extension': 6.556436644104017},\n",
       "  'index': 0,\n",
       "  'playId': 'ad9d4060-c94e-472f-854d-a2057edfa1dd',\n",
       "  'pitchNumber': 1,\n",
       "  'startTime': '2024-07-01T19:29:09.602Z',\n",
       "  'endTime': '2024-07-01T19:29:12.747Z',\n",
       "  'isPitch': True,\n",
       "  'type': 'pitch'},\n",
       " {'details': {'call': {'code': 'C', 'description': 'Called Strike'},\n",
       "   'description': 'Called Strike',\n",
       "   'code': 'C',\n",
       "   'ballColor': 'rgba(170, 21, 11, 1.0)',\n",
       "   'trailColor': 'rgba(188, 0, 33, 1.0)',\n",
       "   'isInPlay': False,\n",
       "   'isStrike': True,\n",
       "   'isBall': False,\n",
       "   'type': {'code': 'FF', 'description': 'Four-Seam Fastball'},\n",
       "   'isOut': False,\n",
       "   'hasReview': False},\n",
       "  'count': {'balls': 0, 'strikes': 2, 'outs': 1},\n",
       "  'pitchData': {'startSpeed': 95.4,\n",
       "   'endSpeed': 87.9,\n",
       "   'strikeZoneTop': 3.40779469754371,\n",
       "   'strikeZoneBottom': 1.41944024237446,\n",
       "   'coordinates': {'aY': 29.084527574096487,\n",
       "    'aZ': -17.643868224518226,\n",
       "    'pfxX': -0.9646833393224701,\n",
       "    'pfxZ': 7.387865545594638,\n",
       "    'pX': 0.857896154534701,\n",
       "    'pZ': 2.90319519355737,\n",
       "    'vX0': 6.200748437545725,\n",
       "    'vY0': -138.8664196645335,\n",
       "    'vZ0': -4.744686787289405,\n",
       "    'x': 84.3,\n",
       "    'y': 160.39,\n",
       "    'x0': -1.271994696252495,\n",
       "    'y0': 50.00331478826147,\n",
       "    'z0': 5.796153290381624,\n",
       "    'aX': -1.8989798409912326},\n",
       "   'breaks': {'breakAngle': 2.4,\n",
       "    'breakLength': 3.6,\n",
       "    'breakY': 24.0,\n",
       "    'breakVertical': -17.2,\n",
       "    'breakVerticalInduced': 12.6,\n",
       "    'breakHorizontal': 0.6,\n",
       "    'spinRate': 2353,\n",
       "    'spinDirection': 197},\n",
       "   'zone': 12,\n",
       "   'typeConfidence': 2.0,\n",
       "   'plateTime': 0.393396912333559,\n",
       "   'extension': 6.576331253175537},\n",
       "  'index': 1,\n",
       "  'playId': 'edfa1087-790f-4fe7-8d56-ba670208eadd',\n",
       "  'pitchNumber': 2,\n",
       "  'startTime': '2024-07-01T19:29:28.969Z',\n",
       "  'endTime': '2024-07-01T19:29:32.872Z',\n",
       "  'isPitch': True,\n",
       "  'type': 'pitch'},\n",
       " {'details': {'call': {'code': 'S', 'description': 'Swinging Strike'},\n",
       "   'description': 'Swinging Strike',\n",
       "   'code': 'S',\n",
       "   'ballColor': 'rgba(170, 21, 11, 1.0)',\n",
       "   'trailColor': 'rgba(188, 0, 33, 1.0)',\n",
       "   'isInPlay': False,\n",
       "   'isStrike': True,\n",
       "   'isBall': False,\n",
       "   'type': {'code': 'FF', 'description': 'Four-Seam Fastball'},\n",
       "   'isOut': True,\n",
       "   'hasReview': False},\n",
       "  'count': {'balls': 0, 'strikes': 3, 'outs': 1},\n",
       "  'pitchData': {'startSpeed': 95.7,\n",
       "   'endSpeed': 88.2,\n",
       "   'strikeZoneTop': 3.34,\n",
       "   'strikeZoneBottom': 1.49,\n",
       "   'coordinates': {'aY': 28.80455292833607,\n",
       "    'aZ': -18.689881911245752,\n",
       "    'pfxX': -0.7225896038550708,\n",
       "    'pfxZ': 6.795850024609161,\n",
       "    'pX': 0.39166439633468436,\n",
       "    'pZ': 3.357176576661467,\n",
       "    'vX0': 4.881291251399751,\n",
       "    'vY0': -139.37669122444123,\n",
       "    'vZ0': -2.9685466190770775,\n",
       "    'x': 102.07,\n",
       "    'y': 148.14,\n",
       "    'x0': -1.2820497741255825,\n",
       "    'y0': 50.00256041473637,\n",
       "    'z0': 5.657669314526358,\n",
       "    'aX': -1.4339033180897127},\n",
       "   'breaks': {'breakAngle': 1.2,\n",
       "    'breakLength': 3.6,\n",
       "    'breakY': 24.0,\n",
       "    'breakVertical': -17.6,\n",
       "    'breakVerticalInduced': 12.0,\n",
       "    'breakHorizontal': 0.4,\n",
       "    'spinRate': 2380,\n",
       "    'spinDirection': 203},\n",
       "   'zone': 3,\n",
       "   'typeConfidence': 2.0,\n",
       "   'plateTime': 0.39169429039459747,\n",
       "   'extension': 6.48093193726377},\n",
       "  'index': 2,\n",
       "  'playId': 'f2489139-a6a1-4bc6-8ba5-320ad7862c41',\n",
       "  'pitchNumber': 3,\n",
       "  'startTime': '2024-07-01T19:29:55.295Z',\n",
       "  'endTime': '2024-07-01T19:29:58.571Z',\n",
       "  'isPitch': True,\n",
       "  'type': 'pitch'}]"
      ]
     },
     "execution_count": 26,
     "metadata": {},
     "output_type": "execute_result"
    }
   ],
   "source": [
    "tmp4['allPlays'][1]['playEvents']"
   ]
  },
  {
   "cell_type": "markdown",
   "id": "c128d414-6ab2-46ad-8482-f39aa48c7fb8",
   "metadata": {},
   "source": [
    "# teams"
   ]
  },
  {
   "cell_type": "code",
   "execution_count": 27,
   "id": "69ea9c92-8923-4fed-8565-bb29ad1bfef6",
   "metadata": {},
   "outputs": [
    {
     "data": {
      "text/plain": [
       "{'springLeague': {'id': 114,\n",
       "  'name': 'Cactus League',\n",
       "  'link': '/api/v1/league/114',\n",
       "  'abbreviation': 'CL'},\n",
       " 'allStarStatus': 'N',\n",
       " 'id': 135,\n",
       " 'name': 'San Diego Padres',\n",
       " 'link': '/api/v1/teams/135',\n",
       " 'season': 2025,\n",
       " 'venue': {'id': 2680, 'name': 'Petco Park', 'link': '/api/v1/venues/2680'},\n",
       " 'springVenue': {'id': 2530, 'link': '/api/v1/venues/2530'},\n",
       " 'teamCode': 'sdn',\n",
       " 'fileCode': 'sd',\n",
       " 'abbreviation': 'SD',\n",
       " 'teamName': 'Padres',\n",
       " 'locationName': 'San Diego',\n",
       " 'firstYearOfPlay': '1968',\n",
       " 'league': {'id': 104,\n",
       "  'name': 'National League',\n",
       "  'link': '/api/v1/league/104'},\n",
       " 'division': {'id': 203,\n",
       "  'name': 'National League West',\n",
       "  'link': '/api/v1/divisions/203'},\n",
       " 'sport': {'id': 1,\n",
       "  'link': '/api/v1/sports/1',\n",
       "  'name': 'Major League Baseball'},\n",
       " 'shortName': 'San Diego',\n",
       " 'franchiseName': 'San Diego',\n",
       " 'clubName': 'Padres',\n",
       " 'active': True}"
      ]
     },
     "execution_count": 27,
     "metadata": {},
     "output_type": "execute_result"
    }
   ],
   "source": [
    "statsapi.get('teams',params={'sportId':1})['teams'][2]"
   ]
  },
  {
   "cell_type": "code",
   "execution_count": 28,
   "id": "9f9e9d15-5e37-4185-9bf4-bd03208a9897",
   "metadata": {},
   "outputs": [],
   "source": [
    "ad = statsapi.get(endpoint='attendance', params={'teamId':134,'leagueId':103,'leagueListid':200,'season':2024}, force=False)\n",
    "bd= statsapi.get(endpoint='attendance', params={'teamId':134,'leagueId':103,'leagueListid':205,'season':2024}, force=False)\n",
    "\n"
   ]
  },
  {
   "cell_type": "code",
   "execution_count": 63,
   "id": "ada4bad9-7745-47c5-8182-d756fba11c6c",
   "metadata": {},
   "outputs": [
    {
     "data": {
      "text/html": [
       "<div>\n",
       "<style scoped>\n",
       "    .dataframe tbody tr th:only-of-type {\n",
       "        vertical-align: middle;\n",
       "    }\n",
       "\n",
       "    .dataframe tbody tr th {\n",
       "        vertical-align: top;\n",
       "    }\n",
       "\n",
       "    .dataframe thead th {\n",
       "        text-align: right;\n",
       "    }\n",
       "</style>\n",
       "<table border=\"1\" class=\"dataframe\">\n",
       "  <thead>\n",
       "    <tr style=\"text-align: right;\">\n",
       "      <th></th>\n",
       "      <th>openingsTotal</th>\n",
       "      <th>openingsTotalAway</th>\n",
       "      <th>openingsTotalHome</th>\n",
       "      <th>openingsTotalLost</th>\n",
       "      <th>gamesTotal</th>\n",
       "      <th>gamesAwayTotal</th>\n",
       "      <th>gamesHomeTotal</th>\n",
       "      <th>year</th>\n",
       "      <th>attendanceAverageAway</th>\n",
       "      <th>attendanceAverageHome</th>\n",
       "      <th>...</th>\n",
       "      <th>attendanceHighGame</th>\n",
       "      <th>attendanceLow</th>\n",
       "      <th>attendanceLowDate</th>\n",
       "      <th>attendanceLowGame</th>\n",
       "      <th>attendanceOpeningAverage</th>\n",
       "      <th>attendanceTotal</th>\n",
       "      <th>attendanceTotalAway</th>\n",
       "      <th>attendanceTotalHome</th>\n",
       "      <th>gameType</th>\n",
       "      <th>team</th>\n",
       "    </tr>\n",
       "  </thead>\n",
       "  <tbody>\n",
       "    <tr>\n",
       "      <th>0</th>\n",
       "      <td>161</td>\n",
       "      <td>80</td>\n",
       "      <td>81</td>\n",
       "      <td>0</td>\n",
       "      <td>164</td>\n",
       "      <td>82</td>\n",
       "      <td>82</td>\n",
       "      <td>2024</td>\n",
       "      <td>31058</td>\n",
       "      <td>21239</td>\n",
       "      <td>...</td>\n",
       "      <td>{'gamePk': 745481, 'link': '/api/v1.1/game/745...</td>\n",
       "      <td>8461</td>\n",
       "      <td>2024-04-22T00:00:00</td>\n",
       "      <td>{'gamePk': 745519, 'link': '/api/v1.1/game/745...</td>\n",
       "      <td>21239</td>\n",
       "      <td>4204963</td>\n",
       "      <td>2484602</td>\n",
       "      <td>1720361</td>\n",
       "      <td>{'id': 'R', 'description': 'Regular Season'}</td>\n",
       "      <td>{'id': 134, 'name': 'Pittsburgh Pirates', 'lin...</td>\n",
       "    </tr>\n",
       "  </tbody>\n",
       "</table>\n",
       "<p>1 rows × 23 columns</p>\n",
       "</div>"
      ],
      "text/plain": [
       "   openingsTotal  openingsTotalAway  openingsTotalHome  openingsTotalLost  \\\n",
       "0            161                 80                 81                  0   \n",
       "\n",
       "   gamesTotal  gamesAwayTotal  gamesHomeTotal  year  attendanceAverageAway  \\\n",
       "0         164              82              82  2024                  31058   \n",
       "\n",
       "   attendanceAverageHome  ...  \\\n",
       "0                  21239  ...   \n",
       "\n",
       "                                  attendanceHighGame  attendanceLow  \\\n",
       "0  {'gamePk': 745481, 'link': '/api/v1.1/game/745...           8461   \n",
       "\n",
       "     attendanceLowDate                                  attendanceLowGame  \\\n",
       "0  2024-04-22T00:00:00  {'gamePk': 745519, 'link': '/api/v1.1/game/745...   \n",
       "\n",
       "   attendanceOpeningAverage attendanceTotal attendanceTotalAway  \\\n",
       "0                     21239         4204963             2484602   \n",
       "\n",
       "   attendanceTotalHome                                      gameType  \\\n",
       "0              1720361  {'id': 'R', 'description': 'Regular Season'}   \n",
       "\n",
       "                                                team  \n",
       "0  {'id': 134, 'name': 'Pittsburgh Pirates', 'lin...  \n",
       "\n",
       "[1 rows x 23 columns]"
      ]
     },
     "execution_count": 63,
     "metadata": {},
     "output_type": "execute_result"
    }
   ],
   "source": [
    "import pandas as pd\n",
    "pd.DataFrame(bd['records'])\n"
   ]
  },
  {
   "cell_type": "code",
   "execution_count": null,
   "id": "595ed4b6-e57a-40b6-86ca-75239a9e0d81",
   "metadata": {},
   "outputs": [],
   "source": []
  }
 ],
 "metadata": {
  "kernelspec": {
   "display_name": "Python 3 (ipykernel)",
   "language": "python",
   "name": "python3"
  },
  "language_info": {
   "codemirror_mode": {
    "name": "ipython",
    "version": 3
   },
   "file_extension": ".py",
   "mimetype": "text/x-python",
   "name": "python",
   "nbconvert_exporter": "python",
   "pygments_lexer": "ipython3",
   "version": "3.13.1"
  }
 },
 "nbformat": 4,
 "nbformat_minor": 5
}
